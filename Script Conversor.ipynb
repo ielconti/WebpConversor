{
 "cells": [
  {
   "cell_type": "code",
   "execution_count": 1,
   "id": "c9534697",
   "metadata": {},
   "outputs": [],
   "source": [
    "# --cwebp_compressor.py--\n",
    "\n",
    "# cmd> python cwebp_compressor.py folder-name 80\n",
    "\n",
    "import sys\n",
    "from subprocess import call\n",
    "from glob import glob"
   ]
  },
  {
   "cell_type": "code",
   "execution_count": 2,
   "id": "bd824ba9",
   "metadata": {},
   "outputs": [],
   "source": [
    "#folder-name\n",
    "path = 'images'\n",
    "#quality of produced .webp images [0-100]\n",
    "quality = '100'"
   ]
  },
  {
   "cell_type": "code",
   "execution_count": 3,
   "id": "b69b1184",
   "metadata": {},
   "outputs": [],
   "source": [
    "if int(quality) < 0 or int(quality) > 100:\n",
    "    print(\"image quality out of range[0-100] ;/:/\")"
   ]
  },
  {
   "cell_type": "code",
   "execution_count": 4,
   "id": "7f38e6c3",
   "metadata": {},
   "outputs": [
    {
     "name": "stdout",
     "output_type": "stream",
     "text": [
      "['circulo1.png', 'circulo2.png', 'circulo3.png']\n"
     ]
    }
   ],
   "source": [
    "img_list = []\n",
    "for img_name in glob(path+'/*'):\n",
    "    #print(img_name)\n",
    "    # one can use more image types(bmp,tiff,gif)\n",
    "    if img_name.endswith(\".jpg\") or img_name.endswith(\".png\") or img_name.endswith(\".jpeg\"):\n",
    "        # extract images name(image_name.[jpg|png]) from the full path\n",
    "        img_list.append(img_name.split('\\\\')[-1])\n",
    "print(img_list)"
   ]
  },
  {
   "cell_type": "code",
   "execution_count": 5,
   "id": "789272f1",
   "metadata": {},
   "outputs": [
    {
     "name": "stdout",
     "output_type": "stream",
     "text": [
      "libwebp-1.3.0-rc1-windows-x64-no-wic\\bin\\cwebp \"images/circulo1.png\" -q 100 -o \"images\\out/circulo1.webp\"\n",
      "libwebp-1.3.0-rc1-windows-x64-no-wic\\bin\\cwebp \"images/circulo2.png\" -q 100 -o \"images\\out/circulo2.webp\"\n",
      "libwebp-1.3.0-rc1-windows-x64-no-wic\\bin\\cwebp \"images/circulo3.png\" -q 100 -o \"images\\out/circulo3.webp\"\n"
     ]
    }
   ],
   "source": [
    "libPath = 'libwebp-1.3.0-rc1-windows-x64-no-wic\\\\bin\\\\cwebp'\n",
    "\n",
    "for img_name in img_list:\n",
    "    # though the chances are very less but be very careful when modifying the below code\n",
    "    cmd= libPath + ' \\\"'+path+'/'+img_name+'\\\" -q '+quality+' -o \\\"'+path+'\\out/'+(img_name.split('.')[0])+'.webp\\\"'\n",
    "    # running the above command\n",
    "    call(cmd, shell=False)  \n",
    "    print(cmd)    # for debug"
   ]
  },
  {
   "cell_type": "code",
   "execution_count": null,
   "id": "035dc985",
   "metadata": {},
   "outputs": [],
   "source": []
  }
 ],
 "metadata": {
  "kernelspec": {
   "display_name": "Python 3 (ipykernel)",
   "language": "python",
   "name": "python3"
  },
  "language_info": {
   "codemirror_mode": {
    "name": "ipython",
    "version": 3
   },
   "file_extension": ".py",
   "mimetype": "text/x-python",
   "name": "python",
   "nbconvert_exporter": "python",
   "pygments_lexer": "ipython3",
   "version": "3.9.13"
  }
 },
 "nbformat": 4,
 "nbformat_minor": 5
}
